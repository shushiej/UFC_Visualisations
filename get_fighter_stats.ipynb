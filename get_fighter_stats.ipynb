{
 "cells": [
  {
   "cell_type": "code",
   "execution_count": 1,
   "metadata": {},
   "outputs": [],
   "source": [
    "import pandas as pd\n",
    "from bs4 import BeautifulSoup\n",
    "from urllib import request\n",
    "import json\n",
    "import re"
   ]
  },
  {
   "cell_type": "code",
   "execution_count": 2,
   "metadata": {},
   "outputs": [],
   "source": [
    "def convert_to_int(st):\n",
    "    return int(''.join(filter(str.isdigit, st)))"
   ]
  },
  {
   "cell_type": "code",
   "execution_count": 3,
   "metadata": {},
   "outputs": [],
   "source": [
    "UFC_URL = \"https://www.ufc.com/athlete/khabib-nurmagomedov\""
   ]
  },
  {
   "cell_type": "code",
   "execution_count": 4,
   "metadata": {},
   "outputs": [],
   "source": [
    "html = request.urlopen(UFC_URL).read()\n",
    "soup = BeautifulSoup(html, 'html.parser')"
   ]
  },
  {
   "cell_type": "code",
   "execution_count": 5,
   "metadata": {},
   "outputs": [],
   "source": [
    "stats_percent = soup.select(\"div.c-stat-compare__number\")\n",
    "stats_label = soup.select(\"div.c-stat-compare__label\")"
   ]
  },
  {
   "cell_type": "code",
   "execution_count": 6,
   "metadata": {},
   "outputs": [],
   "source": [
    "stats_val = []\n",
    "for s in stats_percent:\n",
    "    st = s.text.strip()\n",
    "    st = convert_to_int(st)\n",
    "    stats_val.append(st)"
   ]
  },
  {
   "cell_type": "code",
   "execution_count": 7,
   "metadata": {},
   "outputs": [],
   "source": [
    "labels = []\n",
    "for s in stats_label:\n",
    "    labels.append(s.text)"
   ]
  },
  {
   "cell_type": "code",
   "execution_count": 8,
   "metadata": {},
   "outputs": [],
   "source": [
    "obj = dict(zip(labels, stats_val))"
   ]
  },
  {
   "cell_type": "code",
   "execution_count": 9,
   "metadata": {},
   "outputs": [],
   "source": [
    "main_stat = soup.select(\"svg.e-chart-circle title\")"
   ]
  },
  {
   "cell_type": "code",
   "execution_count": 10,
   "metadata": {},
   "outputs": [],
   "source": [
    "main_stats = []\n",
    "for m in main_stat:\n",
    "    match = re.match(r\"(\\w*)\", m.text)\n",
    "    if(match):\n",
    "        items = match.groups()\n",
    "    main_stats.append(items[0]+\"_accuracy_%\")"
   ]
  },
  {
   "cell_type": "code",
   "execution_count": 11,
   "metadata": {},
   "outputs": [],
   "source": [
    "percents = []\n",
    "\n",
    "for percent in soup.select(\"text.e-chart-circle__percent\"):\n",
    "    st = convert_to_int(percent.text)\n",
    "    percents.append(st)"
   ]
  },
  {
   "cell_type": "code",
   "execution_count": 12,
   "metadata": {},
   "outputs": [],
   "source": [
    "stats_obj = dict(zip(main_stats, percents))"
   ]
  },
  {
   "cell_type": "code",
   "execution_count": 13,
   "metadata": {},
   "outputs": [],
   "source": [
    "obj.update(stats_obj)"
   ]
  },
  {
   "cell_type": "code",
   "execution_count": 14,
   "metadata": {},
   "outputs": [],
   "source": [
    "pos_and_win_types_vals = []\n",
    "\n",
    "for t in soup.select(\"div.c-stat-3bar__value\"):\n",
    "    st = t.text.split(\" \")[1]\n",
    "    st = st.replace(\"(\", \"\")\n",
    "    st = st.replace(\")\", \"\")\n",
    "    st = convert_to_int(st)\n",
    "    pos_and_win_types_vals.append(st)"
   ]
  },
  {
   "cell_type": "code",
   "execution_count": 15,
   "metadata": {},
   "outputs": [],
   "source": [
    "pos_and_win_types_labels = []\n",
    "\n",
    "for l in soup.select(\"div.c-stat-3bar__label\"):\n",
    "    pos_and_win_types_labels.append(l.text.strip()+ \"_%\")"
   ]
  },
  {
   "cell_type": "code",
   "execution_count": 16,
   "metadata": {},
   "outputs": [],
   "source": [
    "pos_win = dict(zip(pos_and_win_types_labels,pos_and_win_types_vals))"
   ]
  },
  {
   "cell_type": "code",
   "execution_count": 18,
   "metadata": {},
   "outputs": [],
   "source": [
    "obj.update(pos_win)"
   ]
  },
  {
   "cell_type": "code",
   "execution_count": 19,
   "metadata": {},
   "outputs": [],
   "source": [
    "strike_types = {\n",
    "    'head_strikes_%' : convert_to_int(soup.select(\"text#e-stat-body_x5F__x5F_head_percent\")[0].text),\n",
    "    'body_strikes_%' : convert_to_int(soup.select(\"text#e-stat-body_x5F__x5F_body_percent\")[0].text),\n",
    "    'legs_strikes_%' : convert_to_int(soup.select(\"text#e-stat-body_x5F__x5F_leg_percent\")[0].text)\n",
    "}"
   ]
  },
  {
   "cell_type": "code",
   "execution_count": 20,
   "metadata": {},
   "outputs": [],
   "source": [
    "obj.update(strike_types)"
   ]
  },
  {
   "cell_type": "code",
   "execution_count": 21,
   "metadata": {},
   "outputs": [
    {
     "data": {
      "text/plain": [
       "{'Average fight time': 1356,\n",
       " 'Clinch_%': 4,\n",
       " 'DEC_%': 38,\n",
       " 'Grappling_accuracy_%': 45,\n",
       " 'Ground_%': 56,\n",
       " 'KO/TKO_%': 31,\n",
       " 'Knockdown Ratio': 20,\n",
       " 'SUB_%': 31,\n",
       " 'Sig. Str. Absorbed': 170,\n",
       " 'Sig. Str. Defense': 67,\n",
       " 'Sig. Str. Landed': 429,\n",
       " 'Standing_%': 40,\n",
       " 'Striking_accuracy_%': 50,\n",
       " 'Submission avg': 59,\n",
       " 'Takedown Defense': 85,\n",
       " 'Takedown avg': 509,\n",
       " 'body_strikes_%': 8,\n",
       " 'head_strikes_%': 87,\n",
       " 'legs_strikes_%': 5}"
      ]
     },
     "execution_count": 21,
     "metadata": {},
     "output_type": "execute_result"
    }
   ],
   "source": [
    "obj"
   ]
  },
  {
   "cell_type": "code",
   "execution_count": null,
   "metadata": {},
   "outputs": [],
   "source": []
  },
  {
   "cell_type": "code",
   "execution_count": 22,
   "metadata": {},
   "outputs": [],
   "source": [
    "# https://www.ufc.com/event/ufc-242#7934  <--- Get In Fight Stats!!"
   ]
  },
  {
   "cell_type": "code",
   "execution_count": null,
   "metadata": {},
   "outputs": [],
   "source": []
  },
  {
   "cell_type": "code",
   "execution_count": null,
   "metadata": {},
   "outputs": [],
   "source": []
  }
 ],
 "metadata": {
  "kernelspec": {
   "display_name": "Python 3",
   "language": "python",
   "name": "python3"
  },
  "language_info": {
   "codemirror_mode": {
    "name": "ipython",
    "version": 3
   },
   "file_extension": ".py",
   "mimetype": "text/x-python",
   "name": "python",
   "nbconvert_exporter": "python",
   "pygments_lexer": "ipython3",
   "version": "3.5.6"
  }
 },
 "nbformat": 4,
 "nbformat_minor": 2
}
